{
 "cells": [
  {
   "cell_type": "code",
   "execution_count": 7,
   "id": "e5576b1b",
   "metadata": {},
   "outputs": [],
   "source": [
    "import io\n",
    "import json\n",
    "\n",
    "from snips_nlu import SnipsNLUEngine\n",
    "from snips_nlu.default_configs import CONFIG_EN"
   ]
  },
  {
   "cell_type": "code",
   "execution_count": 8,
   "id": "edf69dc7",
   "metadata": {},
   "outputs": [],
   "source": [
    "engine = SnipsNLUEngine(config=CONFIG_EN, random_seed = 42)"
   ]
  },
  {
   "cell_type": "code",
   "execution_count": 9,
   "id": "df4fe8d7",
   "metadata": {},
   "outputs": [],
   "source": [
    "with io.open(\"datasets/speech_dataset.json\") as f:\n",
    "    dataset = json.load(f)"
   ]
  },
  {
   "cell_type": "code",
   "execution_count": 10,
   "id": "c17545a7",
   "metadata": {},
   "outputs": [
    {
     "data": {
      "text/plain": [
       "<snips_nlu.nlu_engine.nlu_engine.SnipsNLUEngine at 0x23e0a806af0>"
      ]
     },
     "execution_count": 10,
     "metadata": {},
     "output_type": "execute_result"
    }
   ],
   "source": [
    "engine.fit(dataset)"
   ]
  },
  {
   "cell_type": "code",
   "execution_count": 11,
   "id": "9e861d56",
   "metadata": {},
   "outputs": [
    {
     "data": {
      "text/plain": [
       "{'input': 'Find me a Book named A notebbok',\n",
       " 'intent': {'intentName': 'searchBook', 'probability': 0.39198086458046344},\n",
       " 'slots': [{'range': {'start': 21, 'end': 31},\n",
       "   'rawValue': 'A notebbok',\n",
       "   'value': {'kind': 'Custom', 'value': 'A notebbok'},\n",
       "   'entity': 'book',\n",
       "   'slotName': 'book'}]}"
      ]
     },
     "execution_count": 11,
     "metadata": {},
     "output_type": "execute_result"
    }
   ],
   "source": [
    "engine.parse('Find me a Book named A notebbok')"
   ]
  },
  {
   "cell_type": "code",
   "execution_count": 13,
   "id": "8096ad14",
   "metadata": {},
   "outputs": [],
   "source": [
    "engine.persist('model')"
   ]
  },
  {
   "cell_type": "code",
   "execution_count": null,
   "id": "925bceff",
   "metadata": {},
   "outputs": [],
   "source": []
  }
 ],
 "metadata": {
  "kernelspec": {
   "display_name": "Python 3 (ipykernel)",
   "language": "python",
   "name": "python3"
  },
  "language_info": {
   "codemirror_mode": {
    "name": "ipython",
    "version": 3
   },
   "file_extension": ".py",
   "mimetype": "text/x-python",
   "name": "python",
   "nbconvert_exporter": "python",
   "pygments_lexer": "ipython3",
   "version": "3.9.13"
  }
 },
 "nbformat": 4,
 "nbformat_minor": 5
}
